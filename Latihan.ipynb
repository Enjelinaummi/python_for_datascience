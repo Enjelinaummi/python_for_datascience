{
 "cells": [
  {
   "cell_type": "code",
   "execution_count": 2,
   "metadata": {},
   "outputs": [
    {
     "name": "stdout",
     "output_type": "stream",
     "text": [
      "Gaji per jam: 300000.0\n",
      "Jam kerja per minggu: 25.0\n"
     ]
    }
   ],
   "source": [
    "# Data input\n",
    "gaji_per_jam = float(input(\"Masukkan gaji per jam Budi: \"))\n",
    "jam_kerja_per_minggu = float(input(\"Masukkan total jam kerja per minggu: \"))\n",
    "minggu_kerja = 5\n",
    "\n",
    "print (\"Gaji per jam:\", gaji_per_jam)\n",
    "print (\"Jam kerja per minggu:\", jam_kerja_per_minggu)"
   ]
  },
  {
   "cell_type": "code",
   "execution_count": 3,
   "metadata": {},
   "outputs": [
    {
     "name": "stdout",
     "output_type": "stream",
     "text": [
      "1. Pendapatan sebelum pajak: 37500000.0\n"
     ]
    }
   ],
   "source": [
    "# 1. Menghitung pendapatan sebelum pajak\n",
    "pendapatan_sebelum_pajak = gaji_per_jam * jam_kerja_per_minggu * minggu_kerja\n",
    "\n",
    "print(\"1. Pendapatan sebelum pajak:\", pendapatan_sebelum_pajak)"
   ]
  },
  {
   "cell_type": "code",
   "execution_count": 4,
   "metadata": {},
   "outputs": [
    {
     "name": "stdout",
     "output_type": "stream",
     "text": [
      "2. Pendapatan setelah pajak: 32250000.0\n"
     ]
    }
   ],
   "source": [
    "# 2. Menghitung pendapatan setelah pajak\n",
    "pajak = 0.14 * pendapatan_sebelum_pajak\n",
    "pendapatan_setelah_pajak = pendapatan_sebelum_pajak - pajak\n",
    "\n",
    "print(\"2. Pendapatan setelah pajak:\", pendapatan_setelah_pajak)"
   ]
  },
  {
   "cell_type": "code",
   "execution_count": 5,
   "metadata": {},
   "outputs": [
    {
     "name": "stdout",
     "output_type": "stream",
     "text": [
      "3. Pengeluaran untuk baju dan aksesoris: 3225000.0\n"
     ]
    }
   ],
   "source": [
    "# 3. Jumlah uang yang akan dihabiskan untuk membeli pakaian dan aksesoris\n",
    "pengeluaran_baju_aksesoris = 0.10 * pendapatan_setelah_pajak\n",
    "\n",
    "print(\"3. Pengeluaran untuk baju dan aksesoris:\", pengeluaran_baju_aksesoris)"
   ]
  },
  {
   "cell_type": "code",
   "execution_count": 6,
   "metadata": {},
   "outputs": [
    {
     "name": "stdout",
     "output_type": "stream",
     "text": [
      "4. Pengeluaran untuk alat tulis: 322500.0\n"
     ]
    }
   ],
   "source": [
    "# 4. Jumlah uang yang akan dihabiskan untuk membeli alat tulis\n",
    "pengeluaran_alat_tulis = 0.01 * pendapatan_setelah_pajak\n",
    "\n",
    "print(\"4. Pengeluaran untuk alat tulis:\", pengeluaran_alat_tulis)"
   ]
  },
  {
   "cell_type": "code",
   "execution_count": 7,
   "metadata": {},
   "outputs": [
    {
     "name": "stdout",
     "output_type": "stream",
     "text": [
      "5. Jumlah uang yang disedekahkan: 7175625.0\n"
     ]
    }
   ],
   "source": [
    "# 5. Jumlah uang yang akan disedekahkan\n",
    "sisa_setelah_belanja = pendapatan_setelah_pajak - (pengeluaran_baju_aksesoris + pengeluaran_alat_tulis)\n",
    "sedekah = 0.25 * sisa_setelah_belanja\n",
    "\n",
    "print(\"5. Jumlah uang yang disedekahkan:\", sedekah)"
   ]
  },
  {
   "cell_type": "code",
   "execution_count": 8,
   "metadata": {},
   "outputs": [
    {
     "name": "stdout",
     "output_type": "stream",
     "text": [
      "6. Uang yang diterima anak yatim: 2152687.5\n"
     ]
    }
   ],
   "source": [
    "# 6. Jumlah uang yang diterima anak yatim\n",
    "untuk_anak_yatim = 0.30 * sedekah\n",
    "\n",
    "print(\"6. Uang yang diterima anak yatim:\", untuk_anak_yatim)"
   ]
  },
  {
   "cell_type": "code",
   "execution_count": 9,
   "metadata": {},
   "outputs": [
    {
     "name": "stdout",
     "output_type": "stream",
     "text": [
      "7. Uang yang diterima kaum dhuafa: 5022937.5\n"
     ]
    }
   ],
   "source": [
    "# 7. Jumlah uang yang diterima kaum dhuafa\n",
    "untuk_kaum_dhuafa = 0.70 * sedekah\n",
    "\n",
    "print(\"7. Uang yang diterima kaum dhuafa:\", untuk_kaum_dhuafa)"
   ]
  }
 ],
 "metadata": {
  "kernelspec": {
   "display_name": "Python 3",
   "language": "python",
   "name": "python3"
  },
  "language_info": {
   "codemirror_mode": {
    "name": "ipython",
    "version": 3
   },
   "file_extension": ".py",
   "mimetype": "text/x-python",
   "name": "python",
   "nbconvert_exporter": "python",
   "pygments_lexer": "ipython3",
   "version": "3.11.5"
  }
 },
 "nbformat": 4,
 "nbformat_minor": 2
}
