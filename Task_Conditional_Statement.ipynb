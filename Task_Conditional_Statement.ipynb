{
  "nbformat": 4,
  "nbformat_minor": 0,
  "metadata": {
    "colab": {
      "provenance": [],
      "toc_visible": true,
      "collapsed_sections": [
        "AyDTmgfAfEsH",
        "za1DhAHrglJD",
        "1_k6bMnAh4mq",
        "8RSV1ESjjF0k"
      ],
      "include_colab_link": true
    },
    "kernelspec": {
      "name": "python3",
      "display_name": "Python 3"
    },
    "language_info": {
      "name": "python"
    }
  },
  "cells": [
    {
      "cell_type": "markdown",
      "metadata": {
        "id": "view-in-github",
        "colab_type": "text"
      },
      "source": [
        "<a href=\"https://colab.research.google.com/github/Enjelinaummi/python_for_datascience/blob/main/Task_Conditional_Statement.ipynb\" target=\"_parent\"><img src=\"https://colab.research.google.com/assets/colab-badge.svg\" alt=\"Open In Colab\"/></a>"
      ]
    },
    {
      "cell_type": "markdown",
      "source": [
        "**@create By : Dede Brahma Arianto S.Kom., M.Kom**"
      ],
      "metadata": {
        "id": "myqh9AIUeAwo"
      }
    },
    {
      "cell_type": "markdown",
      "source": [
        "# Conditional Statement"
      ],
      "metadata": {
        "id": "XJ2tDlS5e4Fi"
      }
    },
    {
      "cell_type": "markdown",
      "source": [
        "## Operator Perbandingan"
      ],
      "metadata": {
        "id": "AyDTmgfAfEsH"
      }
    },
    {
      "cell_type": "code",
      "execution_count": null,
      "metadata": {
        "colab": {
          "base_uri": "https://localhost:8080/"
        },
        "id": "7-CRjhyXe1Pz",
        "outputId": "c78ead23-3843-45c1-b7d1-6bf30f5f0886"
      },
      "outputs": [
        {
          "output_type": "stream",
          "name": "stdout",
          "text": [
            "Apakah sama ? False\n"
          ]
        }
      ],
      "source": [
        "#@title Kesamaan\n",
        "\n",
        "angka1 = 10\n",
        "angka2 = 5\n",
        "\n",
        "sama = angka1 == angka2\n",
        "\n",
        "print(\"Apakah sama ?\", sama)"
      ]
    },
    {
      "cell_type": "code",
      "source": [
        "#@title Tidak Sama\n",
        "\n",
        "angka1 = 10\n",
        "angka2 = 5\n",
        "\n",
        "tidak_sama = angka1 != angka2\n",
        "\n",
        "print(\"Apakah tidak sama ?\", tidak_sama)"
      ],
      "metadata": {
        "colab": {
          "base_uri": "https://localhost:8080/"
        },
        "id": "-20BhTA8fr2L",
        "outputId": "6594731b-916c-4291-d44c-4dcb15f22897"
      },
      "execution_count": null,
      "outputs": [
        {
          "output_type": "stream",
          "name": "stdout",
          "text": [
            "Apakah tidak sama ? True\n"
          ]
        }
      ]
    },
    {
      "cell_type": "code",
      "source": [
        "#@title Lebih Besar\n",
        "\n",
        "angka1 = 10\n",
        "angka2 = 5\n",
        "\n",
        "lebih_besar = angka1 > angka2\n",
        "\n",
        "print(\"Apakah lebih besar ?\", lebih_besar)"
      ],
      "metadata": {
        "colab": {
          "base_uri": "https://localhost:8080/"
        },
        "id": "HuZUbsNQf4ex",
        "outputId": "3ee1f2e8-d7b2-4797-bc2e-4881dcfd59c6"
      },
      "execution_count": null,
      "outputs": [
        {
          "output_type": "stream",
          "name": "stdout",
          "text": [
            "Apakah lebih besar ? True\n"
          ]
        }
      ]
    },
    {
      "cell_type": "code",
      "source": [
        "#@title Lebih Kecil\n",
        "\n",
        "angka1 = 10\n",
        "angka2 = 5\n",
        "\n",
        "lebih_kecil = angka1 < angka2\n",
        "\n",
        "print(\"Apakah lebih kecil ?\", lebih_kecil)"
      ],
      "metadata": {
        "colab": {
          "base_uri": "https://localhost:8080/"
        },
        "id": "B-qwVcK_gEJU",
        "outputId": "6b3a22e5-6aaa-43a5-b4e0-bb4873c881fd"
      },
      "execution_count": null,
      "outputs": [
        {
          "output_type": "stream",
          "name": "stdout",
          "text": [
            "Apakah lebih kecil ? False\n"
          ]
        }
      ]
    },
    {
      "cell_type": "code",
      "source": [
        "#@title Lebih Besar Sama Dengan\n",
        "\n",
        "angka1 = 10\n",
        "angka2 = 5\n",
        "\n",
        "lebih_besar_sama_dengan = angka1 >= angka2\n",
        "\n",
        "print(\"Apakah lebih besar atau sama dengan ?\", lebih_besar_sama_dengan)"
      ],
      "metadata": {
        "colab": {
          "base_uri": "https://localhost:8080/"
        },
        "id": "YpQtw7UjgLpE",
        "outputId": "3d2d18b8-85de-416c-dbc2-de6f7b82d601"
      },
      "execution_count": null,
      "outputs": [
        {
          "output_type": "stream",
          "name": "stdout",
          "text": [
            "Apakah lebih besar atau sama dengan ? True\n"
          ]
        }
      ]
    },
    {
      "cell_type": "code",
      "source": [
        "#@title Lebih Kecil Sama Dengan\n",
        "\n",
        "angka1 = 10\n",
        "angka2 = 5\n",
        "\n",
        "lebih_kecil_sama_dengan = angka1 <= angka2\n",
        "\n",
        "print(\"Apakah lebih besar atau sama dengan ?\", lebih_kecil_sama_dengan)"
      ],
      "metadata": {
        "colab": {
          "base_uri": "https://localhost:8080/"
        },
        "id": "BanXaPvjgV-0",
        "outputId": "96f6ae3f-4de0-474f-c5cf-d995cf170b1b"
      },
      "execution_count": null,
      "outputs": [
        {
          "output_type": "stream",
          "name": "stdout",
          "text": [
            "Apakah lebih besar atau sama dengan ? False\n"
          ]
        }
      ]
    },
    {
      "cell_type": "markdown",
      "source": [
        "## Operator Logika"
      ],
      "metadata": {
        "id": "za1DhAHrglJD"
      }
    },
    {
      "cell_type": "code",
      "source": [
        "#@title AND\n",
        "\n",
        "kondisi1 = True\n",
        "kondisi2 = False\n",
        "\n",
        "logika_and = kondisi1 and kondisi2\n",
        "\n",
        "print(\"Hasil Logika And:\", logika_and)"
      ],
      "metadata": {
        "colab": {
          "base_uri": "https://localhost:8080/"
        },
        "id": "JM9Z7doDgkz1",
        "outputId": "89e8963a-155d-4cbb-e67b-11c699207707"
      },
      "execution_count": null,
      "outputs": [
        {
          "output_type": "stream",
          "name": "stdout",
          "text": [
            "Hasil Logika And: False\n"
          ]
        }
      ]
    },
    {
      "cell_type": "code",
      "source": [
        "#@title OR\n",
        "\n",
        "kondisi1 = False\n",
        "kondisi2 = False\n",
        "\n",
        "logika_or = kondisi1 or kondisi2\n",
        "\n",
        "print(\"Hasil Logika OR:\", logika_or)"
      ],
      "metadata": {
        "colab": {
          "base_uri": "https://localhost:8080/"
        },
        "id": "nG8eyqHIhQCP",
        "outputId": "77284538-8f05-401e-d0b7-8379164b1976"
      },
      "execution_count": null,
      "outputs": [
        {
          "output_type": "stream",
          "name": "stdout",
          "text": [
            "Hasil Logika OR: False\n"
          ]
        }
      ]
    },
    {
      "cell_type": "code",
      "source": [
        "#@title NOT\n",
        "\n",
        "kondisi1 = True\n",
        "kondisi2 = False\n",
        "\n",
        "logika_not_1 = not kondisi1\n",
        "logika_not_2 = not kondisi2\n",
        "\n",
        "print(\"Hasil Logika NOT Kondisi 1:\", logika_not_1)\n",
        "print(\"Hasil Logika NOT Kondisi 2:\", logika_not_2)"
      ],
      "metadata": {
        "colab": {
          "base_uri": "https://localhost:8080/"
        },
        "id": "xXDw1daxhY1m",
        "outputId": "f375d109-4689-453e-da54-4efec1d89d5c"
      },
      "execution_count": null,
      "outputs": [
        {
          "output_type": "stream",
          "name": "stdout",
          "text": [
            "Hasil Logika NOT Kondisi 1: False\n",
            "Hasil Logika NOT Kondisi 2: True\n"
          ]
        }
      ]
    },
    {
      "cell_type": "markdown",
      "source": [
        "## Condition IF"
      ],
      "metadata": {
        "id": "D74TP5OAihzX"
      }
    },
    {
      "cell_type": "code",
      "source": [
        "#@title if\n",
        "\n",
        "bilangan = 6\n",
        "\n",
        "if bilangan > 4:\n",
        "    print(\"Bilangan positif\")"
      ],
      "metadata": {
        "id": "laWXU-XkiWmR",
        "colab": {
          "base_uri": "https://localhost:8080/"
        },
        "outputId": "2339e615-fffe-4c4b-d06c-4167429e5b5a"
      },
      "execution_count": null,
      "outputs": [
        {
          "output_type": "stream",
          "name": "stdout",
          "text": [
            "Bilangan positif\n"
          ]
        }
      ]
    },
    {
      "cell_type": "code",
      "source": [
        "#@title if-else\n",
        "\n",
        "bilangan = 5\n",
        "\n",
        "if bilangan > 0:\n",
        "    print(\"Bilangan positif\")\n",
        "else:\n",
        "    print(\"Bilangan negatif\")"
      ],
      "metadata": {
        "colab": {
          "base_uri": "https://localhost:8080/"
        },
        "id": "ynzuq7THitGc",
        "outputId": "a6cff08a-b228-4fdf-c157-6cbb70c640a1"
      },
      "execution_count": null,
      "outputs": [
        {
          "output_type": "stream",
          "name": "stdout",
          "text": [
            "Bilangan positif\n"
          ]
        }
      ]
    },
    {
      "cell_type": "code",
      "source": [
        "#@title if-elif-else\n",
        "\n",
        "bilangan = 0\n",
        "\n",
        "if bilangan > 0:\n",
        "    print(\"Bilangan positif\")\n",
        "elif bilangan < 0:\n",
        "    print(\"Bilangan negatif\")\n",
        "else:\n",
        "    print(\"Nol\")\n"
      ],
      "metadata": {
        "colab": {
          "base_uri": "https://localhost:8080/"
        },
        "id": "Y3XvBNOriyHb",
        "outputId": "24eb350b-f3e9-425a-b311-82dd633d9792"
      },
      "execution_count": null,
      "outputs": [
        {
          "output_type": "stream",
          "name": "stdout",
          "text": [
            "Nol\n"
          ]
        }
      ]
    },
    {
      "cell_type": "markdown",
      "source": [
        "## Soal 1\n",
        "\n",
        "Buatlah script program memeriksa apakah bilangan yang dimasukkan ganjil atau genap. Jika angka yang dimasukkan bernilai genap, akan muncul output: “Angka bernilai genap”. Namun jika angka yang dimasukkan bernilai ganjil, akan muncul output: “Angka bernilai ganjil”."
      ],
      "metadata": {
        "id": "1_k6bMnAh4mq"
      }
    },
    {
      "cell_type": "code",
      "source": [
        "bilangan = int(input(\"Masukkan sebuah bilangan: \"))\n",
        "\n",
        "if bilangan % 2 == 0:\n",
        "    print(\"Angka bernilai genap\")\n",
        "else:\n",
        "    print(\"Angka bernilai ganjil\")"
      ],
      "metadata": {
        "colab": {
          "base_uri": "https://localhost:8080/"
        },
        "id": "49Zp7o_hEN0R",
        "outputId": "3a36192b-e446-4448-be9e-a49a55c7498c"
      },
      "execution_count": null,
      "outputs": [
        {
          "output_type": "stream",
          "name": "stdout",
          "text": [
            "Masukkan sebuah bilangan: 5\n",
            "Angka bernilai ganjil\n"
          ]
        }
      ]
    },
    {
      "cell_type": "markdown",
      "source": [
        "## Soal 2\n",
        "\n",
        "Buatlah script yang memberikan output sebagai berikut:\n",
        "Jika angka kelipatan 3, beri output “fizz”\n",
        "Jika angka kelipatan 5, beri output “buzz”\n",
        "Jika angka kelipatan 3 dan 5 beri output “fizzbuzz”\n",
        "Selain itu beri output “Nayy”\n"
      ],
      "metadata": {
        "id": "8RSV1ESjjF0k"
      }
    },
    {
      "cell_type": "code",
      "source": [
        "angka = int(input(\"Masukkan sebuah angka: \"))\n",
        "if angka % 15 == 0:\n",
        "    print(\"fizzbuzz\")\n",
        "elif angka % 3 == 0:\n",
        "    print(\"fizz\")\n",
        "elif angka % 5 == 0:\n",
        "    print(\"buzz\")\n",
        "else:\n",
        "    print(\"Nayy\")"
      ],
      "metadata": {
        "colab": {
          "base_uri": "https://localhost:8080/"
        },
        "id": "INem3kR8FOMd",
        "outputId": "3140e4ab-6a11-4dd7-8fe4-c5a212748867"
      },
      "execution_count": null,
      "outputs": [
        {
          "output_type": "stream",
          "name": "stdout",
          "text": [
            "Masukkan sebuah angka: 9\n",
            "fizz\n"
          ]
        }
      ]
    },
    {
      "cell_type": "markdown",
      "source": [
        "## Soal 3\n",
        "\n",
        "Buat contoh dari :\n",
        "* Operator perbandingan\n",
        "* Operator Logika\n",
        "* Operator Condition"
      ],
      "metadata": {
        "id": "dhLO_DxGWEpi"
      }
    },
    {
      "cell_type": "markdown",
      "source": [
        "Operator perbandingan"
      ],
      "metadata": {
        "id": "fR5_Y7ILFwwF"
      }
    },
    {
      "cell_type": "code",
      "source": [
        "a = 4\n",
        "b = 2\n",
        "\n",
        "# Operator perbandingan\n",
        "print(\"a == b:\", a == b)  # Apakah sama\n",
        "print(\"a != b:\", a != b)  # Apakah tidak sama\n",
        "print(\"a > b:\", a > b)    # Apakah a lebih besar dari b\n",
        "print(\"a < b:\", a < b)    # Apakah a lebih kecil dari b\n",
        "print(\"a >= b:\", a >= b)  # Apakah a lebih besar atau sama dengan b\n",
        "print(\"a <= b:\", a <= b)  # Apakah a lebih kecil atau sama dengan b"
      ],
      "metadata": {
        "colab": {
          "base_uri": "https://localhost:8080/"
        },
        "id": "1Mzcg09gF0BB",
        "outputId": "ab9e14dc-6517-455c-96f4-452104cb620e"
      },
      "execution_count": null,
      "outputs": [
        {
          "output_type": "stream",
          "name": "stdout",
          "text": [
            "a == b: False\n",
            "a != b: True\n",
            "a > b: True\n",
            "a < b: False\n",
            "a >= b: True\n",
            "a <= b: False\n"
          ]
        }
      ]
    },
    {
      "cell_type": "markdown",
      "source": [
        "Operator Logika"
      ],
      "metadata": {
        "id": "nchacfAwJChE"
      }
    },
    {
      "cell_type": "code",
      "source": [
        "a = True\n",
        "b = False\n",
        "\n",
        "result_and = a and b\n",
        "print(\"a and b:\", result_and)\n",
        "\n",
        "result_or = a or b\n",
        "print(\"a or b:\", result_or)\n",
        "\n",
        "result_not_a = not a\n",
        "print(\"not a:\", result_not_a)\n",
        "\n",
        "result_not_b = not b\n",
        "print(\"not b:\", result_not_b)"
      ],
      "metadata": {
        "colab": {
          "base_uri": "https://localhost:8080/"
        },
        "id": "duS8k113JGm9",
        "outputId": "d7257c53-2762-48b2-be79-a4f83ba1c943"
      },
      "execution_count": null,
      "outputs": [
        {
          "output_type": "stream",
          "name": "stdout",
          "text": [
            "a and b: False\n",
            "a or b: True\n",
            "not a: False\n",
            "not b: True\n"
          ]
        }
      ]
    },
    {
      "cell_type": "markdown",
      "source": [
        "Operator Condition"
      ],
      "metadata": {
        "id": "p-JGgyczKQGq"
      }
    },
    {
      "cell_type": "code",
      "source": [
        "a = 100\n",
        "b = 80\n",
        "c = 60\n",
        "d = 40\n",
        "\n",
        "nilai = 85\n",
        "\n",
        "if nilai >= a:\n",
        "    print(\"Nilai sangat tinggi\")\n",
        "elif nilai >= b:\n",
        "    print(\"Nilai tinggi\")\n",
        "elif nilai >= c:\n",
        "    print(\"Nilai sedang\")\n",
        "else:\n",
        "    print(\"Nilai rendah\")"
      ],
      "metadata": {
        "colab": {
          "base_uri": "https://localhost:8080/"
        },
        "id": "hcONtsSEKqRL",
        "outputId": "a36f212f-8209-4267-c117-00e1b531da3a"
      },
      "execution_count": null,
      "outputs": [
        {
          "output_type": "stream",
          "name": "stdout",
          "text": [
            "Nilai tinggi\n"
          ]
        }
      ]
    },
    {
      "cell_type": "markdown",
      "source": [
        "## Soal 4\n",
        "\n",
        "buah = [\"nanas\", \"apel\", \"jeruk\"]\n",
        "\n",
        "buat conditional if dengan loop"
      ],
      "metadata": {
        "id": "Pp_w8r4Aom9S"
      }
    },
    {
      "cell_type": "code",
      "source": [
        "buah = [\"nanas\", \"apel\", \"jeruk\"]\n",
        "\n",
        "# Loop melalui setiap item dalam daftar buah\n",
        "for item in buah:\n",
        "    if item == \"nanas\":\n",
        "        print(f\"{item} adalah nanas\")\n",
        "    else:\n",
        "        print(f\"{item} bukan nanas\")"
      ],
      "metadata": {
        "colab": {
          "base_uri": "https://localhost:8080/"
        },
        "id": "3cA7IKRkOSe7",
        "outputId": "13431640-8990-4091-84c1-3b611fbe64e6"
      },
      "execution_count": null,
      "outputs": [
        {
          "output_type": "stream",
          "name": "stdout",
          "text": [
            "nanas adalah nanas\n",
            "apel bukan nanas\n",
            "jeruk bukan nanas\n"
          ]
        }
      ]
    }
  ]
}