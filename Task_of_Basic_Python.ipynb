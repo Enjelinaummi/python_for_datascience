{
  "nbformat": 4,
  "nbformat_minor": 0,
  "metadata": {
    "colab": {
      "provenance": [],
      "include_colab_link": true
    },
    "kernelspec": {
      "name": "python3",
      "display_name": "Python 3"
    },
    "language_info": {
      "name": "python"
    }
  },
  "cells": [
    {
      "cell_type": "markdown",
      "metadata": {
        "id": "view-in-github",
        "colab_type": "text"
      },
      "source": [
        "<a href=\"https://colab.research.google.com/github/Enjelinaummi/python_for_datascience/blob/main/Task_of_Basic_Python.ipynb\" target=\"_parent\"><img src=\"https://colab.research.google.com/assets/colab-badge.svg\" alt=\"Open In Colab\"/></a>"
      ]
    },
    {
      "cell_type": "markdown",
      "source": [
        "**@create By : Dede Brahma Arianto S.Kom., M.Kom**"
      ],
      "metadata": {
        "id": "647cG5G4dz5U"
      }
    },
    {
      "cell_type": "markdown",
      "source": [
        "# Basic Python"
      ],
      "metadata": {
        "id": "Vx4h1_ZPZrkq"
      }
    },
    {
      "cell_type": "markdown",
      "source": [
        "## Variable"
      ],
      "metadata": {
        "id": "ufVeYZSOZvv0"
      }
    },
    {
      "cell_type": "code",
      "execution_count": null,
      "metadata": {
        "id": "87-xocetZZoL"
      },
      "outputs": [],
      "source": [
        "# Informasi Kafe\n",
        "nama_kafe = 'Halo & Hearth Café'\n",
        "alamat_kafe = 'Jl. Surga No. 88, Bandung'\n",
        "nomor_cs = '+62801-0029-9000'\n",
        "\n",
        "# Jam Buka Kafe\n",
        "jam_buka = {\"Sunday\": \"09:00 - 22:00\"}\n",
        "\n",
        "# Menu Makanan\n",
        "menu_makanan = {\n",
        "    \"Pasta\": 35000,\n",
        "    \"Salad\": 25000,\n",
        "    \"Burger\": 45000,\n",
        "    \"Pizza\": 55000,\n",
        "    \"Steak\": 85000,\n",
        "    \"Fries\": 20000\n",
        "}\n",
        "\n",
        "# Menu Minuman\n",
        "menu_minuman = {\n",
        "    \"Latte\": 25000,\n",
        "    \"Espresso\": 20000,\n",
        "    \"Matcha\": 30000,\n",
        "    \"Iced Tea\": 15000,\n",
        "    \"Smoothie\": 40000,\n",
        "    \"Mojito\": 35000\n",
        "}\n"
      ]
    },
    {
      "cell_type": "code",
      "source": [
        "print(\"Nama Kafe:\", nama_kafe)\n",
        "print(\"Alamat:\", alamat_kafe)\n",
        "print(\"Nomor CS:\", nomor_cs)\n",
        "print(\"Jam Buka Senin:\", jam_buka[\"Monday\"])\n",
        "print(\"Harga Burger:\", menu_makanan[\"Burger\"])\n",
        "print(\"Harga Latte:\", menu_minuman[\"Latte\"])"
      ],
      "metadata": {
        "colab": {
          "base_uri": "https://localhost:8080/"
        },
        "id": "Ls3AgQzXZ7He",
        "outputId": "932da7a2-9b07-4642-fa6a-937e8861772b"
      },
      "execution_count": null,
      "outputs": [
        {
          "output_type": "stream",
          "name": "stdout",
          "text": [
            "Nama Kafe: Halo & Hearth Café\n",
            "Alamat: Jl. Surga No. 88, Bandung\n",
            "Nomor CS: +62801-0029-9000\n",
            "Jam Buka Senin: 09:00 - 22:00\n",
            "Harga Burger: 45000\n",
            "Harga Latte: 25000\n"
          ]
        }
      ]
    },
    {
      "cell_type": "code",
      "source": [
        "#@title Variable with Input\n",
        "\n",
        "nama_pemesan = input(\"Masukkan nama pemesan: \")\n",
        "menu_makanan = input(\"Masukkan menu makanan yang dipilih: \")\n",
        "menu_minuman = input(\"Masukkan menu minuman yang dipilih: \")"
      ],
      "metadata": {
        "colab": {
          "base_uri": "https://localhost:8080/"
        },
        "id": "-gQF582faZHh",
        "outputId": "88da355c-4cb6-449a-dccf-a74bf72d57d8"
      },
      "execution_count": null,
      "outputs": [
        {
          "name": "stdout",
          "output_type": "stream",
          "text": [
            "Masukkan nama pemesan: Angel\n",
            "Masukkan menu makanan yang dipilih: Pasta\n",
            "Masukkan menu minuman yang dipilih: Latte\n"
          ]
        }
      ]
    },
    {
      "cell_type": "code",
      "source": [
        "print(\"\\nDetail Pesanan:\")\n",
        "print(\"Nama Pemesan:\", nama_pemesan)\n",
        "print(\"Menu Makanan:\", menu_makanan)\n",
        "print(\"Menu Minuman:\", menu_minuman)"
      ],
      "metadata": {
        "colab": {
          "base_uri": "https://localhost:8080/"
        },
        "id": "ZlzkVLF1aqlc",
        "outputId": "413a8d27-6922-4364-e54b-c2a3a83d9af8"
      },
      "execution_count": null,
      "outputs": [
        {
          "output_type": "stream",
          "name": "stdout",
          "text": [
            "\n",
            "Detail Pesanan:\n",
            "Nama Pemesan: Angel\n",
            "Menu Makanan: Pasta\n",
            "Menu Minuman: Latte\n"
          ]
        }
      ]
    },
    {
      "cell_type": "code",
      "source": [
        "#@title Calculate with Variable\n",
        "\n",
        "nama_pemesan = \"Angel\"\n",
        "harga_pasta = 35000\n",
        "harga_latte = 25000\n",
        "total_harga = harga_pasta + harga_latte\n",
        "\n",
        "print(\"Nama Pemesan:\", nama_pemesan)\n",
        "print(\"Total Harga Pesanan:\", total_harga)"
      ],
      "metadata": {
        "id": "YKMgaqCfaCkx",
        "colab": {
          "base_uri": "https://localhost:8080/"
        },
        "outputId": "e0715184-7fcd-4b0c-ccd4-c0b7dcaa8b81"
      },
      "execution_count": null,
      "outputs": [
        {
          "output_type": "stream",
          "name": "stdout",
          "text": [
            "Nama Pemesan: Angel\n",
            "Total Harga Pesanan: 60000\n"
          ]
        }
      ]
    },
    {
      "cell_type": "code",
      "source": [
        "#@title Update Value Variable\n",
        "harga_ekstra = 10000\n",
        "total_harga += harga_ekstra"
      ],
      "metadata": {
        "id": "a8qc7E1WaGGZ"
      },
      "execution_count": null,
      "outputs": []
    },
    {
      "cell_type": "code",
      "source": [
        "print(\"Nama Pemesan:\", nama_pemesan)\n",
        "print(\"Makanan:\", menu_makanan)\n",
        "print(\"Minuman:\", menu_minuman)\n",
        "print(\"Ekstra:\", \"Beef\", harga_ekstra)\n",
        "print(\"Total Harga Pesanan:\", total_harga)"
      ],
      "metadata": {
        "colab": {
          "base_uri": "https://localhost:8080/"
        },
        "id": "WVtI888GaHxp",
        "outputId": "ba7f40ce-15d1-4bf4-9910-3b3e2a13626e"
      },
      "execution_count": null,
      "outputs": [
        {
          "output_type": "stream",
          "name": "stdout",
          "text": [
            "Nama Pemesan: Angel\n",
            "Makanan: Pasta\n",
            "Minuman: Latte\n",
            "Ekstra: Beef 10000\n",
            "Total Harga Pesanan: 70000\n"
          ]
        }
      ]
    },
    {
      "cell_type": "markdown",
      "source": [
        "## Data Type"
      ],
      "metadata": {
        "id": "Dbi8Pj0zaKi8"
      }
    },
    {
      "cell_type": "code",
      "source": [
        "#@title Numeric Data Type\n",
        "\n",
        "burger_price = 45000  # Integer (bilangan bulat)\n",
        "average_rating = 4.7  # Float (bilangan desimal)"
      ],
      "metadata": {
        "id": "yeYdU144axpr"
      },
      "execution_count": null,
      "outputs": []
    },
    {
      "cell_type": "code",
      "source": [
        "print(\"Harga Burger:\", burger_price)\n",
        "print(\"Rating :\", average_rating)"
      ],
      "metadata": {
        "colab": {
          "base_uri": "https://localhost:8080/"
        },
        "id": "OUXtKgVKazEf",
        "outputId": "9e699a4f-0654-4577-d229-c6347e5708a0"
      },
      "execution_count": null,
      "outputs": [
        {
          "output_type": "stream",
          "name": "stdout",
          "text": [
            "Harga Burger: 45000\n",
            "Rating : 4.7\n"
          ]
        }
      ]
    },
    {
      "cell_type": "code",
      "source": [
        "#@title String Data Type\n",
        "\n",
        "nama_kafe = \"Halo & Hearth Café\"\n",
        "alamat_kafe = \"Jl. Surga No. 88, Bandung\"\n",
        "nomor_cs = \"+62801-0029-9000\""
      ],
      "metadata": {
        "id": "JO4oLtX4a2Sh"
      },
      "execution_count": null,
      "outputs": []
    },
    {
      "cell_type": "code",
      "source": [
        "print(\"Nama Kafe:\", nama_kafe)\n",
        "print(\"Alamat Kafe:\", alamat_kafe)\n",
        "print(\"Nomor CS:\", nomor_cs)"
      ],
      "metadata": {
        "colab": {
          "base_uri": "https://localhost:8080/"
        },
        "id": "JXF-1K5sa4Ok",
        "outputId": "fbfbc85c-4e01-4480-c415-bb95c4d557d4"
      },
      "execution_count": null,
      "outputs": [
        {
          "output_type": "stream",
          "name": "stdout",
          "text": [
            "Nama Kafe: Halo & Hearth Café\n",
            "Alamat Kafe: Jl. Surga No. 88, Bandung\n",
            "Nomor CS: +62801-0029-9000\n"
          ]
        }
      ]
    },
    {
      "cell_type": "code",
      "source": [
        "#@title Boolean Data Type\n",
        "\n",
        "is_open = True     # boolean True\n",
        "is_closed = False    # boolean False"
      ],
      "metadata": {
        "id": "mE4oTRxBa6AD"
      },
      "execution_count": null,
      "outputs": []
    },
    {
      "cell_type": "code",
      "source": [
        "print(\"Kafe Buka:\", is_open)\n",
        "print(\"Kafe Tutup:\", is_closed)"
      ],
      "metadata": {
        "colab": {
          "base_uri": "https://localhost:8080/"
        },
        "id": "s71WtN8Ba8Jb",
        "outputId": "31dc3599-d494-4261-dfdf-6fcd259ced40"
      },
      "execution_count": null,
      "outputs": [
        {
          "output_type": "stream",
          "name": "stdout",
          "text": [
            "Kafe Buka: True\n",
            "Kafe Tutup: False\n"
          ]
        }
      ]
    },
    {
      "cell_type": "code",
      "source": [
        "#@title List Data Type\n",
        "\n",
        "menu_makanan = [\"Pasta\", \"Salad\", \"Burger\", \"Pizza\", \"Steak\", \"Fries\"]  # list\n",
        "menu_makanan = [\"Latte\", \"Espresso\", \"Matcha\", \"Iced Tea\", \"Smoothie\", \"Mojito\"] # list"
      ],
      "metadata": {
        "id": "7ZN6pSGEa96S"
      },
      "execution_count": null,
      "outputs": []
    },
    {
      "cell_type": "code",
      "source": [
        "print(\"Menu Makanan:\", menu_makanan)\n",
        "print(\"Menu Minuman:\", menu_minuman)"
      ],
      "metadata": {
        "colab": {
          "base_uri": "https://localhost:8080/"
        },
        "id": "RBi4lb7ua_5r",
        "outputId": "12386daa-dc68-4164-8c3b-5ef4046d783e"
      },
      "execution_count": null,
      "outputs": [
        {
          "output_type": "stream",
          "name": "stdout",
          "text": [
            "Menu Makanan: ['Pasta', 'Salad', 'Burger', 'Pizza', 'Steak', 'Fries']\n",
            "Menu Minuman: ['Latte', 'Espresso', 'Matcha', 'Iced Tea', 'Smoothie', 'Mojito']\n"
          ]
        }
      ]
    },
    {
      "cell_type": "code",
      "source": [
        "#@title Tuple Data Type\n",
        "\n",
        "hari = ('Senin', 'Selasa', 'Rabu', 'Kamis', 'Jumat', 'Sabtu', 'Minggu')  #\n",
        "jam_buka = (\"09:00\", \"22:00\")"
      ],
      "metadata": {
        "id": "YRvLQcuFbBuT"
      },
      "execution_count": null,
      "outputs": []
    },
    {
      "cell_type": "code",
      "source": [
        "print(\"Hari :\", hari)\n",
        "print(\"Jam Buka Kafe:\", jam_buka)"
      ],
      "metadata": {
        "colab": {
          "base_uri": "https://localhost:8080/"
        },
        "id": "9tyWq7tubDE-",
        "outputId": "d9a1dcf9-ac7a-4443-8ae3-a1806cfa5d53"
      },
      "execution_count": null,
      "outputs": [
        {
          "output_type": "stream",
          "name": "stdout",
          "text": [
            "Hari : ('Senin', 'Selasa', 'Rabu', 'Kamis', 'Jumat', 'Sabtu', 'Minggu')\n",
            "Jam Buka Kafe: ('09:00', '22:00')\n"
          ]
        }
      ]
    },
    {
      "cell_type": "code",
      "source": [
        "#@title Set Data Type\n",
        "\n",
        "populer_menu_items = {\"Pasta\", \"Salad\", \"Steak\", \"Fries\", \"Latte\", \"Espresso\", \"Matcha\", \"Iced Tea\", \"Smoothie\", \"Mojito\"}  # set"
      ],
      "metadata": {
        "id": "MxRWQ5TbbEom"
      },
      "execution_count": null,
      "outputs": []
    },
    {
      "cell_type": "markdown",
      "source": [],
      "metadata": {
        "id": "1_HaXzgPvDkP"
      }
    },
    {
      "cell_type": "code",
      "source": [
        "print(\"Buah :\", populer_menu_items)"
      ],
      "metadata": {
        "colab": {
          "base_uri": "https://localhost:8080/"
        },
        "id": "nMZFDD-1bGTe",
        "outputId": "a840a708-a2d4-4308-82d5-d11d13761275"
      },
      "execution_count": null,
      "outputs": [
        {
          "output_type": "stream",
          "name": "stdout",
          "text": [
            "Buah : {'Salad', 'Espresso', 'Iced Tea', 'Latte', 'Fries', 'Pasta', 'Smoothie', 'Steak', 'Mojito', 'Matcha'}\n"
          ]
        }
      ]
    },
    {
      "cell_type": "code",
      "source": [
        "#@title Dictionary Data Type\n",
        "data_kafe = {\n",
        "    'nama': 'Halo & Hearth Café',\n",
        "    'alamat': 'Jl. Surga No. 88, Bandung',\n",
        "    'nomor_cs': '+62801-0029-9000',}"
      ],
      "metadata": {
        "id": "_wxU3Ez8bH62"
      },
      "execution_count": null,
      "outputs": []
    },
    {
      "cell_type": "code",
      "source": [
        "print(\"Informasi Kafe:\")\n",
        "print(\"Nama Kafe:\", data_kafe['nama'])\n",
        "print(\"Alamat Kafe:\", data_kafe['alamat'])\n",
        "print(\"Nomor CS:\", data_kafe['nomor_cs'])"
      ],
      "metadata": {
        "colab": {
          "base_uri": "https://localhost:8080/"
        },
        "id": "9DVNG1olbJoW",
        "outputId": "96f160da-0e74-4e9b-cfa9-1c3298c00663"
      },
      "execution_count": null,
      "outputs": [
        {
          "output_type": "stream",
          "name": "stdout",
          "text": [
            "Informasi Kafe:\n",
            "Nama Kafe: Halo & Hearth Café\n",
            "Alamat Kafe: Jl. Surga No. 88, Bandung\n",
            "Nomor CS: +62801-0029-9000\n"
          ]
        }
      ]
    },
    {
      "cell_type": "code",
      "source": [
        "# Numeric Data Type\n",
        "burger_price = 45000  # Integer (bilangan bulat)\n",
        "average_rating = 4.7  # Float (bilangan desimal)\n",
        "print(\"Tipe Data burger_price:\", type(burger_price))  # Output: <class 'int'>\n",
        "print(\"Tipe Data average_rating:\", type(average_rating))  # Output: <class 'float'>\n",
        "\n",
        "# String Data Type\n",
        "nama_kafe = \"Halo & Hearth Café\"\n",
        "alamat_kafe = \"Jl. Surga No. 88, Bandung\"\n",
        "nomor_cs = \"+62801-0029-9000\"\n",
        "print(\"Tipe Data nama_kafe:\", type(nama_kafe))  # Output: <class 'str'>\n",
        "print(\"Tipe Data alamat_kafe:\", type(alamat_kafe))  # Output: <class 'str'>\n",
        "print(\"Tipe Data nomor_cs:\", type(nomor_cs))  # Output: <class 'str'>\n",
        "\n",
        "# Boolean Data Type\n",
        "is_open = True     # boolean True\n",
        "is_closed = False  # boolean False\n",
        "print(\"Tipe Data is_open:\", type(is_open))  # Output: <class 'bool'>\n",
        "print(\"Tipe Data is_closed:\", type(is_closed))  # Output: <class 'bool'>\n",
        "\n",
        "# List Data Type\n",
        "menu_makanan = [\"Pasta\", \"Salad\", \"Burger\", \"Pizza\", \"Steak\", \"Fries\"]\n",
        "menu_minuman = [\"Latte\", \"Espresso\", \"Matcha\", \"Iced Tea\", \"Smoothie\", \"Mojito\"]\n",
        "print(\"Tipe Data menu_makanan:\", type(menu_makanan))  # Output: <class 'list'>\n",
        "print(\"Tipe Data menu_minuman:\", type(menu_minuman))  # Output: <class 'list'>\n",
        "\n",
        "# Tuple Data Type\n",
        "hari = ('Senin', 'Selasa', 'Rabu', 'Kamis', 'Jumat', 'Sabtu', 'Minggu')\n",
        "jam_buka = (\"09:00\", \"22:00\")\n",
        "print(\"Tipe Data hari:\", type(hari))  # Output: <class 'tuple'>\n",
        "print(\"Tipe Data jam_buka:\", type(jam_buka))  # Output: <class 'tuple'>\n",
        "\n",
        "# Set Data Type\n",
        "populer_menu_items = {\"Pasta\", \"Salad\", \"Steak\", \"Fries\", \"Latte\", \"Espresso\", \"Matcha\", \"Iced Tea\", \"Smoothie\", \"Mojito\"}\n",
        "print(\"Tipe Data populer_menu_items:\", type(populer_menu_items))  # Output: <class 'set'>\n",
        "\n",
        "# Dictionary Data Type\n",
        "data_kafe = {\n",
        "    'nama': 'Halo & Hearth Café',\n",
        "    'alamat': 'Jl. Surga No. 88, Bandung',\n",
        "    'nomor_cs': '+62801-0029-9000',}\n",
        "\n",
        "print(\"Tipe Data data_kafe:\", type(data_kafe))  # Output: <class 'dict'>\n"
      ],
      "metadata": {
        "colab": {
          "base_uri": "https://localhost:8080/"
        },
        "id": "skM8zbVjbNaW",
        "outputId": "42104cc5-a1f7-4bf1-da73-0042ac2a6d0e"
      },
      "execution_count": null,
      "outputs": [
        {
          "output_type": "stream",
          "name": "stdout",
          "text": [
            "Tipe Data burger_price: <class 'int'>\n",
            "Tipe Data average_rating: <class 'float'>\n",
            "Tipe Data nama_kafe: <class 'str'>\n",
            "Tipe Data alamat_kafe: <class 'str'>\n",
            "Tipe Data nomor_cs: <class 'str'>\n",
            "Tipe Data is_open: <class 'bool'>\n",
            "Tipe Data is_closed: <class 'bool'>\n",
            "Tipe Data menu_makanan: <class 'list'>\n",
            "Tipe Data menu_minuman: <class 'list'>\n",
            "Tipe Data hari: <class 'tuple'>\n",
            "Tipe Data jam_buka: <class 'tuple'>\n",
            "Tipe Data populer_menu_items: <class 'set'>\n",
            "Tipe Data data_kafe: <class 'dict'>\n"
          ]
        }
      ]
    },
    {
      "cell_type": "markdown",
      "source": [
        "## Basic arithmetic operation"
      ],
      "metadata": {
        "id": "AcLWUH9GbSnm"
      }
    },
    {
      "cell_type": "code",
      "source": [
        "#@title Penjumlahan\n",
        "harga_pasta = 35000\n",
        "harga_salad = 25000\n",
        "total_harga = harga_pasta + harga_salad\n",
        "\n",
        "print(\"Total Harga (Penjumlahan):\", total_harga)"
      ],
      "metadata": {
        "colab": {
          "base_uri": "https://localhost:8080/"
        },
        "id": "l_aAThBLbU4e",
        "outputId": "37da0ff2-4376-41d0-a208-91a506a1cb05"
      },
      "execution_count": null,
      "outputs": [
        {
          "output_type": "stream",
          "name": "stdout",
          "text": [
            "Total Harga (Penjumlahan): 60000\n"
          ]
        }
      ]
    },
    {
      "cell_type": "code",
      "source": [
        "#@title Pengurangan\n",
        "harga_pizza = 55000\n",
        "diskon = 10000\n",
        "harga_setelah_diskon = harga_pizza - diskon\n",
        "\n",
        "print(\"Harga Setelah Diskon (Pengurangan):\", harga_setelah_diskon)"
      ],
      "metadata": {
        "colab": {
          "base_uri": "https://localhost:8080/"
        },
        "id": "wxVGljMHbb7u",
        "outputId": "58bc89b7-9a06-4c6c-ebfc-ea00534e6956"
      },
      "execution_count": null,
      "outputs": [
        {
          "output_type": "stream",
          "name": "stdout",
          "text": [
            "Harga Setelah Diskon (Pengurangan): 45000\n"
          ]
        }
      ]
    },
    {
      "cell_type": "code",
      "source": [
        "#@title Perkalian\n",
        "jumlah_burger = 3\n",
        "harga_burger = 45000\n",
        "total_burger = jumlah_burger * harga_burger\n",
        "\n",
        "print(\"Total Harga Burger (Perkalian):\", total_burger)"
      ],
      "metadata": {
        "colab": {
          "base_uri": "https://localhost:8080/"
        },
        "id": "EF7SGyddbeEz",
        "outputId": "95c9cae4-c9d5-4812-f484-708a792005ec"
      },
      "execution_count": null,
      "outputs": [
        {
          "output_type": "stream",
          "name": "stdout",
          "text": [
            "Total Harga Burger (Perkalian): 135000\n"
          ]
        }
      ]
    },
    {
      "cell_type": "code",
      "source": [
        "#@title Pembagian\n",
        "\n",
        "total_harga_menu = 120000\n",
        "jumlah_pelanggan = 4\n",
        "harga_per_orang = total_harga_menu / jumlah_pelanggan\n",
        "\n",
        "print(\"Harga Per Orang (Pembagian):\", harga_per_orang)"
      ],
      "metadata": {
        "colab": {
          "base_uri": "https://localhost:8080/"
        },
        "id": "Wf7u9-hgbgEl",
        "outputId": "385e5d36-2982-47ae-f1b0-22f269be67a3"
      },
      "execution_count": null,
      "outputs": [
        {
          "output_type": "stream",
          "name": "stdout",
          "text": [
            "Harga Per Orang (Pembagian): 30000.0\n"
          ]
        }
      ]
    },
    {
      "cell_type": "code",
      "source": [
        "#@title Pembagian Bulat\n",
        "\n",
        "total_harga = 125000\n",
        "jumlah_anggota = 6\n",
        "harga_per_anggota = total_harga // jumlah_anggota\n",
        "\n",
        "print(\"Harga Per Anggota (Pembagian Bulat):\", harga_per_anggota)"
      ],
      "metadata": {
        "colab": {
          "base_uri": "https://localhost:8080/"
        },
        "id": "cpIu7qXhbiWd",
        "outputId": "4cf4cd64-a251-43e8-8f9c-0975060ba95d"
      },
      "execution_count": null,
      "outputs": [
        {
          "output_type": "stream",
          "name": "stdout",
          "text": [
            "Harga Per Anggota (Pembagian Bulat): 20833\n"
          ]
        }
      ]
    },
    {
      "cell_type": "code",
      "source": [
        "#@title Modulus\n",
        "\n",
        "total_pizza_harga = 55000\n",
        "pembayaran_pelanggan = 60000\n",
        "kembalian = pembayaran_pelanggan % total_pizza_harga\n",
        "\n",
        "print(\"Kembalian (Modulus):\", kembalian)"
      ],
      "metadata": {
        "colab": {
          "base_uri": "https://localhost:8080/"
        },
        "id": "azsN3WPrblKp",
        "outputId": "18cb1930-f401-4715-80bc-edd00baabb34"
      },
      "execution_count": null,
      "outputs": [
        {
          "output_type": "stream",
          "name": "stdout",
          "text": [
            "Kembalian (Modulus): 5000\n"
          ]
        }
      ]
    },
    {
      "cell_type": "code",
      "source": [
        "harga_burger = 45000\n",
        "kuadrat_harga_burger = harga_burger ** 2\n",
        "\n",
        "print(\"Kuadrat Harga Burger (Pangkat):\", kuadrat_harga_burger)"
      ],
      "metadata": {
        "colab": {
          "base_uri": "https://localhost:8080/"
        },
        "id": "3i2XCuqEbnYV",
        "outputId": "755f1080-c39a-4413-a3f4-fbbb3295945f"
      },
      "execution_count": null,
      "outputs": [
        {
          "output_type": "stream",
          "name": "stdout",
          "text": [
            "Kuadrat Harga Burger (Pangkat): 2025000000\n"
          ]
        }
      ]
    },
    {
      "cell_type": "markdown",
      "source": [
        "## String Manipulation"
      ],
      "metadata": {
        "id": "CCJi8zg5buZy"
      }
    },
    {
      "cell_type": "code",
      "source": [
        "#@title Concatenation\n",
        "\n",
        "nama_kafe = \"Halo & Hearth Café\"\n",
        "alamat_kafe = \"Jl. Surga No. 88, Bandung\"\n",
        "info_kafe = nama_kafe + \" - \" + alamat_kafe\n",
        "\n",
        "print(\"Informasi Kafe (Concatenation):\", info_kafe)"
      ],
      "metadata": {
        "colab": {
          "base_uri": "https://localhost:8080/"
        },
        "id": "KQnB7EZLbwAx",
        "outputId": "c150e1c9-2c9e-4d97-c345-e3d296ebbede"
      },
      "execution_count": null,
      "outputs": [
        {
          "output_type": "stream",
          "name": "stdout",
          "text": [
            "Informasi Kafe (Concatenation): Halo & Hearth Café - Jl. Surga No. 88, Bandung\n"
          ]
        }
      ]
    },
    {
      "cell_type": "code",
      "source": [
        "#@title Multiplication\n",
        "\n",
        "nama_kafe = \"Halo & Hearth Café\"\n",
        "\n",
        "# Indexing\n",
        "a = nama_kafe[0]   # Karakter pertama\n",
        "b = nama_kafe[5]   # Karakter ke-6\n",
        "c = nama_kafe[-1]  # Karakter terakhir\n",
        "d = nama_kafe[-12] # Karakter ke-12 dari belakang\n",
        "e = len(nama_kafe) # Panjang string\n",
        "\n",
        "print(nama_kafe)\n",
        "print(a)\n",
        "print(b)\n",
        "print(c)\n",
        "print(e)\n"
      ],
      "metadata": {
        "colab": {
          "base_uri": "https://localhost:8080/"
        },
        "id": "zY8x2GTNb3wR",
        "outputId": "4ff57c03-321e-430a-a350-2fdeb5481204"
      },
      "execution_count": null,
      "outputs": [
        {
          "output_type": "stream",
          "name": "stdout",
          "text": [
            "Halo & Hearth Café\n",
            "H\n",
            "&\n",
            "é\n",
            "18\n"
          ]
        }
      ]
    },
    {
      "cell_type": "code",
      "source": [],
      "metadata": {
        "id": "svaFCmgg2S52"
      },
      "execution_count": null,
      "outputs": []
    },
    {
      "cell_type": "code",
      "source": [
        "#@title Slicing\n",
        "# start:end\n",
        "# start:end:lompatan\n",
        "\n",
        "a = \"Halo Dunia\"\n",
        "b = a[0:6]\n",
        "c = a[0:8:2]\n",
        "print(b)\n",
        "print(c) # Output: \"Halo\"\n"
      ],
      "metadata": {
        "colab": {
          "base_uri": "https://localhost:8080/"
        },
        "id": "TNna8ZMPb7aR",
        "outputId": "d7005f86-8a4e-4923-f2c9-59675706fae9"
      },
      "execution_count": null,
      "outputs": [
        {
          "output_type": "stream",
          "name": "stdout",
          "text": [
            "Halo D\n",
            "Hl u\n"
          ]
        }
      ]
    },
    {
      "cell_type": "code",
      "source": [
        "#@title Replace\n",
        "# replace(oldvalue, newvalue)\n",
        "\n",
        "a = \"Halo Dunia\"\n",
        "b = a.replace(\"Dunia\", \"Semua\")\n",
        "print(b) # Output: \"Halo Semua\"\n"
      ],
      "metadata": {
        "colab": {
          "base_uri": "https://localhost:8080/"
        },
        "id": "6fR_YJ1mb-vt",
        "outputId": "524139fb-e007-4ce2-a7fc-2453df7fdcc6"
      },
      "execution_count": null,
      "outputs": [
        {
          "output_type": "stream",
          "name": "stdout",
          "text": [
            "Halo Semua\n"
          ]
        }
      ]
    },
    {
      "cell_type": "code",
      "source": [
        "#@title Lowercase\n",
        "\n",
        "a = \"Halo Dunia\"\n",
        "b = a.lower()\n",
        "print(b) # Output: \"halo dunia\"\n"
      ],
      "metadata": {
        "colab": {
          "base_uri": "https://localhost:8080/"
        },
        "id": "_NkMEdUJcAtk",
        "outputId": "e270cd69-ca7d-4afc-80b0-c088876d514d"
      },
      "execution_count": null,
      "outputs": [
        {
          "output_type": "stream",
          "name": "stdout",
          "text": [
            "halo dunia\n"
          ]
        }
      ]
    },
    {
      "cell_type": "code",
      "source": [
        "#@title Uppercase\n",
        "\n",
        "a = \"Halo Dunia\"\n",
        "b = a.upper()\n",
        "print(b) # Output: \"HALO DUNIA\"\n"
      ],
      "metadata": {
        "colab": {
          "base_uri": "https://localhost:8080/"
        },
        "id": "1-cINSfKcCI4",
        "outputId": "9cf5d539-6ccf-4fb4-c10a-dffb5d3963a0"
      },
      "execution_count": null,
      "outputs": [
        {
          "output_type": "stream",
          "name": "stdout",
          "text": [
            "HALO DUNIA\n"
          ]
        }
      ]
    },
    {
      "cell_type": "code",
      "source": [
        "#@title Capitalize\n",
        "\n",
        "a = \"Halo Dunia\"\n",
        "b = a.capitalize()\n",
        "print(b) # Output: \"Halo dunia\""
      ],
      "metadata": {
        "colab": {
          "base_uri": "https://localhost:8080/"
        },
        "id": "bP2j82ftcJd4",
        "outputId": "878b228d-7e18-4153-bbba-c97c9a9c1b4c"
      },
      "execution_count": null,
      "outputs": [
        {
          "output_type": "stream",
          "name": "stdout",
          "text": [
            "Halo dunia\n"
          ]
        }
      ]
    },
    {
      "cell_type": "code",
      "source": [
        "print(a.capitalize())"
      ],
      "metadata": {
        "colab": {
          "base_uri": "https://localhost:8080/"
        },
        "id": "w6dBYBw8j86y",
        "outputId": "152e697d-a3c1-4a7c-992a-c61c615ec318"
      },
      "execution_count": null,
      "outputs": [
        {
          "output_type": "stream",
          "name": "stdout",
          "text": [
            "Halo dunia\n"
          ]
        }
      ]
    },
    {
      "cell_type": "code",
      "source": [
        "#@title Split\n",
        "\n",
        "a = \"Halo, Dunia, Semua\"\n",
        "b = a.split(\", \")\n",
        "print(type(a))\n",
        "print(b)\n",
        "print(type(b))\n",
        "print(b[1]) # Output: [\"Halo\", \"Dunia\", \"Semua\"]\n"
      ],
      "metadata": {
        "colab": {
          "base_uri": "https://localhost:8080/"
        },
        "id": "q-oqkEnVcEBE",
        "outputId": "25d103dd-0964-420c-ebd6-28fdb010fefa"
      },
      "execution_count": null,
      "outputs": [
        {
          "output_type": "stream",
          "name": "stdout",
          "text": [
            "<class 'str'>\n",
            "['Halo', 'Dunia', 'Semua']\n",
            "<class 'list'>\n",
            "Dunia\n"
          ]
        }
      ]
    },
    {
      "cell_type": "code",
      "source": [
        "#@title Join\n",
        "\n",
        "a = [\"Halo\", \"Dunia\", \"Semua\"]\n",
        "b = \", \".join(a)\n",
        "\n",
        "print(type(a))\n",
        "print(a)\n",
        "\n",
        "print(\"========\")\n",
        "print(type(b))\n",
        "print(b) # Output: \"Halo, Dunia, Semua\"\n"
      ],
      "metadata": {
        "colab": {
          "base_uri": "https://localhost:8080/"
        },
        "id": "qDv3FYvtcHWR",
        "outputId": "39e7d0a9-19a8-4464-8faa-79f01bd5db1c"
      },
      "execution_count": null,
      "outputs": [
        {
          "output_type": "stream",
          "name": "stdout",
          "text": [
            "<class 'list'>\n",
            "['Halo', 'Dunia', 'Semua']\n",
            "========\n",
            "<class 'str'>\n",
            "Halo, Dunia, Semua\n"
          ]
        }
      ]
    },
    {
      "cell_type": "markdown",
      "source": [
        "## Typecasting"
      ],
      "metadata": {
        "id": "hL4dJ7pidbzS"
      }
    },
    {
      "cell_type": "code",
      "source": [
        "#@title Data Type Casting - Integer\n",
        "\n",
        "x = '5'\n",
        "y = int(x)\n",
        "\n",
        "print(type(x))\n",
        "print(y)    # Output: 5\n",
        "print(type(y)) # Output: int\n"
      ],
      "metadata": {
        "colab": {
          "base_uri": "https://localhost:8080/"
        },
        "id": "EaXA3DKPdeIE",
        "outputId": "e2ae549c-0677-4008-8d94-87cf146b5e4a"
      },
      "execution_count": null,
      "outputs": [
        {
          "output_type": "stream",
          "name": "stdout",
          "text": [
            "<class 'str'>\n",
            "5\n",
            "<class 'int'>\n"
          ]
        }
      ]
    },
    {
      "cell_type": "code",
      "source": [
        "#@title Data Type Casting - Float\n",
        "\n",
        "\n",
        "x = '3'\n",
        "y = float(x)\n",
        "print(y)    # Output: 3.14\n",
        "print(type(y)) # Output: float\n"
      ],
      "metadata": {
        "colab": {
          "base_uri": "https://localhost:8080/"
        },
        "id": "UAghXDHKdjei",
        "outputId": "ffc92c14-faff-4ad0-9db9-e3bad37989a7"
      },
      "execution_count": null,
      "outputs": [
        {
          "output_type": "stream",
          "name": "stdout",
          "text": [
            "3.0\n",
            "<class 'float'>\n"
          ]
        }
      ]
    },
    {
      "cell_type": "code",
      "source": [
        "#@title Data Type Casting - String\n",
        "\n",
        "x = 5\n",
        "y = str(x)\n",
        "\n",
        "print(type(x))\n",
        "print(y)    # Output: '5'\n",
        "print(type(y)) # Output: str\n"
      ],
      "metadata": {
        "colab": {
          "base_uri": "https://localhost:8080/"
        },
        "id": "K4fCSz9AdlBG",
        "outputId": "ecfe6352-bfb1-4c10-fa55-59f8b7ae9697"
      },
      "execution_count": null,
      "outputs": [
        {
          "output_type": "stream",
          "name": "stdout",
          "text": [
            "<class 'int'>\n",
            "5\n",
            "<class 'str'>\n"
          ]
        }
      ]
    },
    {
      "cell_type": "code",
      "source": [
        "#@title Data Type Casting - Boolean\n",
        "\n",
        "x = ''\n",
        "y = bool(x)\n",
        "print(y)    # Output: False\n",
        "print(type(y)) # Output: bool\n"
      ],
      "metadata": {
        "colab": {
          "base_uri": "https://localhost:8080/"
        },
        "id": "IkQ4NKhVdmsy",
        "outputId": "913bbc0f-3693-414a-91bb-caa7182f4763"
      },
      "execution_count": null,
      "outputs": [
        {
          "output_type": "stream",
          "name": "stdout",
          "text": [
            "False\n",
            "<class 'bool'>\n"
          ]
        }
      ]
    },
    {
      "cell_type": "markdown",
      "source": [
        "## Latihan"
      ],
      "metadata": {
        "id": "E1uA8qvil0y7"
      }
    },
    {
      "cell_type": "markdown",
      "source": [
        "1. Buat contoh :\n",
        "- Variabel\n",
        "- Data type\n",
        "- Arithmatic\n",
        "- manipulation\n",
        "- type casting"
      ],
      "metadata": {
        "id": "Bk7cOMhFeHjA"
      }
    },
    {
      "cell_type": "markdown",
      "source": [
        "2. Diberikan nomor telepon berikut.\n",
        "\n",
        "phone_num = “+62801-0029-9000”\n",
        "\n",
        "ganti “+62” menjadi “0” dan hilangkan simbol “-”\n"
      ],
      "metadata": {
        "id": "WgK-qJbMmC6j"
      }
    },
    {
      "cell_type": "code",
      "source": [
        "phone_num = \"+62801-0029-9000\"\n",
        "formatted_phone = phone_num.replace(\"+62\", \"0\").replace(\"-\", \"\")\n",
        "print(formatted_phone)"
      ],
      "metadata": {
        "colab": {
          "base_uri": "https://localhost:8080/"
        },
        "id": "nynCfDMU3jEp",
        "outputId": "a1027094-0365-4fed-b32d-3acd66d15ffd"
      },
      "execution_count": null,
      "outputs": [
        {
          "output_type": "stream",
          "name": "stdout",
          "text": [
            "080100299000\n"
          ]
        }
      ]
    }
  ]
}